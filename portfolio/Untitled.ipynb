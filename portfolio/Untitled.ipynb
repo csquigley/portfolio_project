{
 "cells": [
  {
   "cell_type": "code",
   "execution_count": null,
   "id": "9f755b15",
   "metadata": {},
   "outputs": [],
   "source": [
    "import os\n",
    "import openai\n",
    "from PIL import Image\n",
    "import requests\n",
    "from io import BytesIO"
   ]
  },
  {
   "cell_type": "code",
   "execution_count": 73,
   "id": "07776fa5",
   "metadata": {},
   "outputs": [],
   "source": [
    "openai.api_key = os.getenv(\"OPENAI_API_KEY\")"
   ]
  },
  {
   "cell_type": "code",
   "execution_count": null,
   "id": "951da102",
   "metadata": {},
   "outputs": [],
   "source": [
    "response = openai.Image.create(\n",
    "  prompt=\"An oil painting, a Trojan horse waits outside the gates of Troy\",\n",
    "  n=1,\n",
    "  size=\"1024x1024\"\n",
    ")\n",
    "image_url = response['data'][0]['url']"
   ]
  },
  {
   "cell_type": "code",
   "execution_count": null,
   "id": "17cf7bdb",
   "metadata": {},
   "outputs": [],
   "source": [
    "response = requests.get(image_url)\n",
    "img = Image.open(BytesIO(response.content))"
   ]
  },
  {
   "cell_type": "code",
   "execution_count": null,
   "id": "4d2cba55",
   "metadata": {},
   "outputs": [],
   "source": [
    "img.show()"
   ]
  },
  {
   "cell_type": "code",
   "execution_count": null,
   "id": "03ce0bed",
   "metadata": {},
   "outputs": [],
   "source": [
    "file_name = \"trojan-horse\"\n",
    "path = f\"/home/christopher/Desktop/openai_images/{file_name}.png\""
   ]
  },
  {
   "cell_type": "code",
   "execution_count": null,
   "id": "9a61bc41",
   "metadata": {},
   "outputs": [],
   "source": [
    "img.save(path)"
   ]
  },
  {
   "cell_type": "code",
   "execution_count": null,
   "id": "2131819f",
   "metadata": {},
   "outputs": [],
   "source": []
  }
 ],
 "metadata": {
  "kernelspec": {
   "display_name": "Python 3 (ipykernel)",
   "language": "python",
   "name": "python3"
  },
  "language_info": {
   "codemirror_mode": {
    "name": "ipython",
    "version": 3
   },
   "file_extension": ".py",
   "mimetype": "text/x-python",
   "name": "python",
   "nbconvert_exporter": "python",
   "pygments_lexer": "ipython3",
   "version": "3.9.15"
  }
 },
 "nbformat": 4,
 "nbformat_minor": 5
}
