{
 "cells": [
  {
   "cell_type": "code",
   "execution_count": 1,
   "id": "9f755b15",
   "metadata": {},
   "outputs": [],
   "source": [
    "import os\n",
    "import openai"
   ]
  },
  {
   "cell_type": "code",
   "execution_count": 2,
   "id": "07776fa5",
   "metadata": {},
   "outputs": [],
   "source": [
    "openai.api_key = os.getenv(\"OPENAI_API_KEY\")"
   ]
  },
  {
   "cell_type": "code",
   "execution_count": 64,
   "id": "35f9f20b",
   "metadata": {},
   "outputs": [],
   "source": [
    "response = openai.Completion.create(model=\"text-davinci-003\", prompt=\"Why don't Koreans like Japanese?\", temperature=0, max_tokens=200)"
   ]
  },
  {
   "cell_type": "code",
   "execution_count": 65,
   "id": "b3ba95f3",
   "metadata": {},
   "outputs": [],
   "source": [
    "obj = response.to_dict()"
   ]
  },
  {
   "cell_type": "code",
   "execution_count": 66,
   "id": "4dffd0ac",
   "metadata": {},
   "outputs": [],
   "source": [
    "obj = obj['choices'][0].to_dict()"
   ]
  },
  {
   "cell_type": "code",
   "execution_count": 67,
   "id": "d6d6c5e4",
   "metadata": {},
   "outputs": [
    {
     "data": {
      "text/plain": [
       "\"\\n\\nThere is a long history of animosity between Korea and Japan, stemming from Japan's colonization of Korea from 1910 to 1945. During this period, Japan imposed its language, culture, and government on Korea, and many Koreans feel that Japan has never fully apologized for its actions. This has led to a deep-seated resentment of Japan among many Koreans.\""
      ]
     },
     "execution_count": 67,
     "metadata": {},
     "output_type": "execute_result"
    }
   ],
   "source": [
    "obj['text']"
   ]
  },
  {
   "cell_type": "code",
   "execution_count": 68,
   "id": "012f525e",
   "metadata": {},
   "outputs": [
    {
     "name": "stdout",
     "output_type": "stream",
     "text": [
      "\n",
      "\n",
      "There is a long history of animosity between Korea and Japan, stemming from Japan's colonization of Korea from 1910 to 1945. During this period, Japan imposed its language, culture, and government on Korea, and many Koreans feel that Japan has never fully apologized for its actions. This has led to a deep-seated resentment of Japan among many Koreans.\n"
     ]
    }
   ],
   "source": [
    "print(obj['text'])"
   ]
  },
  {
   "cell_type": "code",
   "execution_count": null,
   "id": "951da102",
   "metadata": {},
   "outputs": [],
   "source": []
  }
 ],
 "metadata": {
  "kernelspec": {
   "display_name": "Python 3 (ipykernel)",
   "language": "python",
   "name": "python3"
  },
  "language_info": {
   "codemirror_mode": {
    "name": "ipython",
    "version": 3
   },
   "file_extension": ".py",
   "mimetype": "text/x-python",
   "name": "python",
   "nbconvert_exporter": "python",
   "pygments_lexer": "ipython3",
   "version": "3.9.15"
  }
 },
 "nbformat": 4,
 "nbformat_minor": 5
}
