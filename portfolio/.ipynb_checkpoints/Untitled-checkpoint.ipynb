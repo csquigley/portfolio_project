{
 "cells": [
  {
   "cell_type": "code",
   "execution_count": 1,
   "id": "1d87b645",
   "metadata": {},
   "outputs": [],
   "source": [
    "import os\n",
    "import openai"
   ]
  },
  {
   "cell_type": "code",
   "execution_count": 2,
   "id": "8b930109",
   "metadata": {},
   "outputs": [],
   "source": [
    "openai.api_key = os.getenv(\"OPENAI_API_KEY\")"
   ]
  },
  {
   "cell_type": "code",
   "execution_count": 59,
   "id": "61182e90",
   "metadata": {},
   "outputs": [],
   "source": [
    "response = openai.Completion.create(model=\"text-davinci-003\", prompt=\"write a short poem about Korea\", temperature=0, max_tokens=100)"
   ]
  },
  {
   "cell_type": "code",
   "execution_count": 60,
   "id": "53faec81",
   "metadata": {},
   "outputs": [],
   "source": [
    "obj = response.to_dict()"
   ]
  },
  {
   "cell_type": "code",
   "execution_count": 61,
   "id": "c6847db1",
   "metadata": {},
   "outputs": [],
   "source": [
    "obj = obj['choices'][0].to_dict()"
   ]
  },
  {
   "cell_type": "code",
   "execution_count": 62,
   "id": "38e9c93f",
   "metadata": {},
   "outputs": [
    {
     "data": {
      "text/plain": [
       "'\\n\\nKorea, a land of beauty and grace\\nA culture of honor and pride\\nA people of strength and resilience\\nA nation that stands side by side'"
      ]
     },
     "execution_count": 62,
     "metadata": {},
     "output_type": "execute_result"
    }
   ],
   "source": [
    "obj['text']"
   ]
  },
  {
   "cell_type": "code",
   "execution_count": 63,
   "id": "548a33bb",
   "metadata": {},
   "outputs": [
    {
     "name": "stdout",
     "output_type": "stream",
     "text": [
      "\n",
      "\n",
      "Korea, a land of beauty and grace\n",
      "A culture of honor and pride\n",
      "A people of strength and resilience\n",
      "A nation that stands side by side\n"
     ]
    }
   ],
   "source": [
    "print(obj['text'])"
   ]
  },
  {
   "cell_type": "code",
   "execution_count": null,
   "id": "18d0198e",
   "metadata": {},
   "outputs": [],
   "source": []
  }
 ],
 "metadata": {
  "kernelspec": {
   "display_name": "Python 3 (ipykernel)",
   "language": "python",
   "name": "python3"
  },
  "language_info": {
   "codemirror_mode": {
    "name": "ipython",
    "version": 3
   },
   "file_extension": ".py",
   "mimetype": "text/x-python",
   "name": "python",
   "nbconvert_exporter": "python",
   "pygments_lexer": "ipython3",
   "version": "3.9.15"
  }
 },
 "nbformat": 4,
 "nbformat_minor": 5
}
